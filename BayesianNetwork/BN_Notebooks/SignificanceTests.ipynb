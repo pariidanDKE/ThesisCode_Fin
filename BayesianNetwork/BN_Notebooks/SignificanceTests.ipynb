{
 "cells": [
  {
   "cell_type": "code",
   "execution_count": 9,
   "metadata": {
    "collapsed": true
   },
   "outputs": [],
   "source": [
    "import pandas as pd\n",
    "import numpy as np"
   ]
  },
  {
   "cell_type": "code",
   "execution_count": 10,
   "outputs": [],
   "source": [
    "#https://alexlenail.medium.com/understanding-and-implementing-the-hypergeometric-test-in-python-a7db688a7458\n",
    "matching_df = pd.read_csv('..\\\\Logs\\\\matching_results_fin.csv',index_col=0)"
   ],
   "metadata": {
    "collapsed": false,
    "pycharm": {
     "name": "#%%\n"
    }
   }
  },
  {
   "cell_type": "code",
   "execution_count": 11,
   "outputs": [
    {
     "data": {
      "text/plain": "    NodesPerBlock  Computed_EdgeCount  Computed_NodeCount  Real_EdgeCount  \\\n0            10.0                34.0                30.0             2.0   \n1            10.0                34.0                30.0             2.0   \n2            10.0                34.0                30.0             2.0   \n3            10.0                34.0                30.0             2.0   \n4            10.0                34.0                30.0             2.0   \n..            ...                 ...                 ...             ...   \n0             5.0                19.0                16.0             0.0   \n0             5.0                17.0                15.0             2.0   \n0            15.0                50.0                45.0            14.0   \n0            15.0                50.0                45.0            14.0   \n0            15.0                50.0                45.0            14.0   \n\n    Real_NodeCount                                       Matches  MatchCount  \\\n0              4.0                        [('P61981', 'P63027')]         1.0   \n1              4.0                        [('P61981', 'P63027')]         1.0   \n2              4.0                        [('P61981', 'P63027')]         1.0   \n3              4.0                        [('P61981', 'P63027')]         1.0   \n4              4.0                        [('P61981', 'P63027')]         1.0   \n..             ...                                           ...         ...   \n0              0.0                                            []         0.0   \n0              4.0                                            []         0.0   \n0             17.0  [('P49418', 'Q9BY11'), ('P61981', 'Q9Y2J2')]         2.0   \n0             17.0  [('P49418', 'Q9BY11'), ('P61981', 'Q9Y2J2')]         2.0   \n0             17.0  [('P49418', 'Q9BY11'), ('P61981', 'Q9Y2J2')]         2.0   \n\n   Selection Method Configuration StructureLearningMethod  \n0             OnPLs     No Config               HillClimb  \n1             OnPLs     No Config               HillClimb  \n2             OnPLs     No Config               HillClimb  \n3             OnPLs     No Config               HillClimb  \n4             OnPLs     No Config               HillClimb  \n..              ...           ...                     ...  \n0             OnPLs     No Config       HillClimb(6tiers)  \n0             OnPLs     No Config               HillClimb  \n0             OnPLs     No Config               HillClimb  \n0             OnPLs     No Config               HillClimb  \n0             OnPLs     No Config               HillClimb  \n\n[1269 rows x 10 columns]",
      "text/html": "<div>\n<style scoped>\n    .dataframe tbody tr th:only-of-type {\n        vertical-align: middle;\n    }\n\n    .dataframe tbody tr th {\n        vertical-align: top;\n    }\n\n    .dataframe thead th {\n        text-align: right;\n    }\n</style>\n<table border=\"1\" class=\"dataframe\">\n  <thead>\n    <tr style=\"text-align: right;\">\n      <th></th>\n      <th>NodesPerBlock</th>\n      <th>Computed_EdgeCount</th>\n      <th>Computed_NodeCount</th>\n      <th>Real_EdgeCount</th>\n      <th>Real_NodeCount</th>\n      <th>Matches</th>\n      <th>MatchCount</th>\n      <th>Selection Method</th>\n      <th>Configuration</th>\n      <th>StructureLearningMethod</th>\n    </tr>\n  </thead>\n  <tbody>\n    <tr>\n      <th>0</th>\n      <td>10.0</td>\n      <td>34.0</td>\n      <td>30.0</td>\n      <td>2.0</td>\n      <td>4.0</td>\n      <td>[('P61981', 'P63027')]</td>\n      <td>1.0</td>\n      <td>OnPLs</td>\n      <td>No Config</td>\n      <td>HillClimb</td>\n    </tr>\n    <tr>\n      <th>1</th>\n      <td>10.0</td>\n      <td>34.0</td>\n      <td>30.0</td>\n      <td>2.0</td>\n      <td>4.0</td>\n      <td>[('P61981', 'P63027')]</td>\n      <td>1.0</td>\n      <td>OnPLs</td>\n      <td>No Config</td>\n      <td>HillClimb</td>\n    </tr>\n    <tr>\n      <th>2</th>\n      <td>10.0</td>\n      <td>34.0</td>\n      <td>30.0</td>\n      <td>2.0</td>\n      <td>4.0</td>\n      <td>[('P61981', 'P63027')]</td>\n      <td>1.0</td>\n      <td>OnPLs</td>\n      <td>No Config</td>\n      <td>HillClimb</td>\n    </tr>\n    <tr>\n      <th>3</th>\n      <td>10.0</td>\n      <td>34.0</td>\n      <td>30.0</td>\n      <td>2.0</td>\n      <td>4.0</td>\n      <td>[('P61981', 'P63027')]</td>\n      <td>1.0</td>\n      <td>OnPLs</td>\n      <td>No Config</td>\n      <td>HillClimb</td>\n    </tr>\n    <tr>\n      <th>4</th>\n      <td>10.0</td>\n      <td>34.0</td>\n      <td>30.0</td>\n      <td>2.0</td>\n      <td>4.0</td>\n      <td>[('P61981', 'P63027')]</td>\n      <td>1.0</td>\n      <td>OnPLs</td>\n      <td>No Config</td>\n      <td>HillClimb</td>\n    </tr>\n    <tr>\n      <th>...</th>\n      <td>...</td>\n      <td>...</td>\n      <td>...</td>\n      <td>...</td>\n      <td>...</td>\n      <td>...</td>\n      <td>...</td>\n      <td>...</td>\n      <td>...</td>\n      <td>...</td>\n    </tr>\n    <tr>\n      <th>0</th>\n      <td>5.0</td>\n      <td>19.0</td>\n      <td>16.0</td>\n      <td>0.0</td>\n      <td>0.0</td>\n      <td>[]</td>\n      <td>0.0</td>\n      <td>OnPLs</td>\n      <td>No Config</td>\n      <td>HillClimb(6tiers)</td>\n    </tr>\n    <tr>\n      <th>0</th>\n      <td>5.0</td>\n      <td>17.0</td>\n      <td>15.0</td>\n      <td>2.0</td>\n      <td>4.0</td>\n      <td>[]</td>\n      <td>0.0</td>\n      <td>OnPLs</td>\n      <td>No Config</td>\n      <td>HillClimb</td>\n    </tr>\n    <tr>\n      <th>0</th>\n      <td>15.0</td>\n      <td>50.0</td>\n      <td>45.0</td>\n      <td>14.0</td>\n      <td>17.0</td>\n      <td>[('P49418', 'Q9BY11'), ('P61981', 'Q9Y2J2')]</td>\n      <td>2.0</td>\n      <td>OnPLs</td>\n      <td>No Config</td>\n      <td>HillClimb</td>\n    </tr>\n    <tr>\n      <th>0</th>\n      <td>15.0</td>\n      <td>50.0</td>\n      <td>45.0</td>\n      <td>14.0</td>\n      <td>17.0</td>\n      <td>[('P49418', 'Q9BY11'), ('P61981', 'Q9Y2J2')]</td>\n      <td>2.0</td>\n      <td>OnPLs</td>\n      <td>No Config</td>\n      <td>HillClimb</td>\n    </tr>\n    <tr>\n      <th>0</th>\n      <td>15.0</td>\n      <td>50.0</td>\n      <td>45.0</td>\n      <td>14.0</td>\n      <td>17.0</td>\n      <td>[('P49418', 'Q9BY11'), ('P61981', 'Q9Y2J2')]</td>\n      <td>2.0</td>\n      <td>OnPLs</td>\n      <td>No Config</td>\n      <td>HillClimb</td>\n    </tr>\n  </tbody>\n</table>\n<p>1269 rows × 10 columns</p>\n</div>"
     },
     "execution_count": 11,
     "metadata": {},
     "output_type": "execute_result"
    }
   ],
   "source": [
    "matching_df"
   ],
   "metadata": {
    "collapsed": false,
    "pycharm": {
     "name": "#%%\n"
    }
   }
  },
  {
   "cell_type": "markdown",
   "source": [
    "Aggregating results for Method tested\n",
    "\n",
    "Method 1 : HillClimb+NoWhitelist <br>\n",
    "Method 2 : PC+NoWhitelist <br>\n",
    "Method 3 : HillClimb+Whitelist <br>\n",
    "Method 4 : HillClimb+NoWhitelist(Random selection)"
   ],
   "metadata": {
    "collapsed": false,
    "pycharm": {
     "name": "#%% md\n"
    }
   }
  },
  {
   "cell_type": "code",
   "execution_count": 12,
   "outputs": [],
   "source": [
    "from scipy.stats import hypergeom\n",
    "# Helper Methods\n",
    "\n",
    "def eval_significance(row, alpha, is_config=False):\n",
    "    V = row['Computed_NodeCount']\n",
    "\n",
    "    if is_config:\n",
    "        v = V / 3\n",
    "        m = (v * (v - 1)) / 2\n",
    "\n",
    "        M2 = (V * (V - 1)) / 2\n",
    "        M = M2 - 3 * m\n",
    "\n",
    "    else:\n",
    "        M = (V * (V - 1)) / 2  # the population size, aka all possible edges in a DAG with V nodes\n",
    "\n",
    "    n = row['Real_EdgeCount']  # number of successes in the population aka how many 'real' edges there are\n",
    "    N = row['Computed_EdgeCount']  # the sample size aka how many of the possible edges were actually present\n",
    "    x = row['MatchCount']  # number of successes in sample aka  aka how many of the present edges are 'real' edges\n",
    "\n",
    "    pval = hypergeom.sf(x - 1, M, n, N)\n",
    "\n",
    "    # if pval < alpha:\n",
    "    #     print('Matches found are  statistically significant, with p-value=', str(pval), ' and alpha=', str(alpha))\n",
    "    # else:\n",
    "    #     print('Matches found are NOT statistically significant!!! with p-value=', str(pval), ' and alpha=', str(alpha))\n",
    "\n",
    "    return pval < alpha, pval\n",
    "\n",
    "\n",
    "def separate_tests(df, alpha, is_config=False):\n",
    "    total_pval = 0\n",
    "\n",
    "    for idx, row in df.iterrows():\n",
    "        _, pval = eval_significance(row, alpha, is_config)\n",
    "        if ~np.isnan(pval):\n",
    "            total_pval += pval\n",
    "    print(df.drop(['Matches'], axis=1).mean(numeric_only=True))\n",
    "    print('P-value obtained: ', str((total_pval / df.shape[0])))\n",
    "\n",
    "    return total_pval / df.shape[0]\n",
    "\n",
    "\n",
    "def setup_row(df):\n",
    "    mean_row = np.round(df.drop(['Matches'], axis=1).mean(numeric_only=True))\n",
    "    print(mean_row)\n",
    "    return mean_row\n",
    "\n",
    "\n"
   ],
   "metadata": {
    "collapsed": false,
    "pycharm": {
     "name": "#%%\n"
    }
   }
  },
  {
   "cell_type": "code",
   "execution_count": 13,
   "outputs": [],
   "source": [
    "# Method 1\n",
    "matching_method11= matching_df.loc[(matching_df['NodesPerBlock'] == 5) & (matching_df['Configuration'] == 'No Config') & (matching_df['StructureLearningMethod'] =='HillClimb') & (matching_df['Selection Method']=='OnPLs')]\n",
    "matching_method12 = matching_df.loc[(matching_df['NodesPerBlock'] == 15) & (matching_df['Configuration'] == 'No Config') & (matching_df['StructureLearningMethod'] =='HillClimb') & (matching_df['Selection Method']=='OnPLs')]\n",
    "matching_method13 = matching_df.loc[(matching_df['NodesPerBlock'] == 25) & (matching_df['Configuration'] == 'No Config') & (matching_df['StructureLearningMethod'] =='HillClimb') & (matching_df['Selection Method']=='OnPLs')]"
   ],
   "metadata": {
    "collapsed": false,
    "pycharm": {
     "name": "#%%\n"
    }
   }
  },
  {
   "cell_type": "code",
   "execution_count": 14,
   "outputs": [],
   "source": [
    "# Method 2\n",
    "matching_method21= matching_df.loc[(matching_df['NodesPerBlock'] == 5) & (matching_df['Configuration'] == 'No Config') & (matching_df['StructureLearningMethod'] =='PC') & (matching_df['Selection Method']=='OnPLs')]\n",
    "matching_method22 = matching_df.loc[(matching_df['NodesPerBlock'] == 15) & (matching_df['Configuration'] == 'No Config') & (matching_df['StructureLearningMethod'] =='PC') & (matching_df['Selection Method']=='OnPLs')]\n",
    "matching_method23 = matching_df.loc[(matching_df['NodesPerBlock'] == 25) & (matching_df['Configuration'] == 'No Config') & (matching_df['StructureLearningMethod'] =='PC') & (matching_df['Selection Method']=='OnPLs')]"
   ],
   "metadata": {
    "collapsed": false,
    "pycharm": {
     "name": "#%%\n"
    }
   }
  },
  {
   "cell_type": "code",
   "execution_count": 15,
   "outputs": [],
   "source": [
    "# Method 3\n",
    "matching_method31 = matching_df.loc[(matching_df['NodesPerBlock'] == 5) & (matching_df['Configuration'] == 'Config(wb)') & (matching_df['StructureLearningMethod'] =='HillClimb') & (matching_df['Selection Method']=='OnPLs')]\n",
    "matching_method32 = matching_df.loc[(matching_df['NodesPerBlock'] == 15) & (matching_df['Configuration'] == 'Config(wb)') & (matching_df['StructureLearningMethod'] =='HillClimb') & (matching_df['Selection Method']=='OnPLs')]\n",
    "matching_method33 = matching_df.loc[(matching_df['NodesPerBlock'] == 25) & (matching_df['Configuration'] == 'Config(wb)') & (matching_df['StructureLearningMethod'] =='HillClimb') & (matching_df['Selection Method']=='OnPLs')]"
   ],
   "metadata": {
    "collapsed": false,
    "pycharm": {
     "name": "#%%\n"
    }
   }
  },
  {
   "cell_type": "code",
   "execution_count": 16,
   "outputs": [],
   "source": [
    "matching_method41= matching_df.loc[(matching_df['NodesPerBlock'] == 5) & (matching_df['Configuration'] == 'No Config') & (matching_df['StructureLearningMethod'] =='HillClimb') & (matching_df['Selection Method']=='Random')]\n",
    "matching_method42= matching_df.loc[(matching_df['NodesPerBlock'] == 15) & (matching_df['Configuration'] == 'No Config') & (matching_df['StructureLearningMethod'] =='HillClimb') & (matching_df['Selection Method']=='Random')]\n",
    "matching_method43= matching_df.loc[(matching_df['NodesPerBlock'] == 25) & (matching_df['Configuration'] == 'No Config') & (matching_df['StructureLearningMethod'] =='HillClimb') & (matching_df['Selection Method']=='Random')]\n",
    "\n",
    "\n",
    "\n"
   ],
   "metadata": {
    "collapsed": false,
    "pycharm": {
     "name": "#%%\n"
    }
   }
  },
  {
   "cell_type": "markdown",
   "source": [
    "HyperGeometric tests : Determine whether the amount of matches determined is high enough to not be found by chance.\n"
   ],
   "metadata": {
    "collapsed": false,
    "pycharm": {
     "name": "#%% md\n"
    }
   }
  },
  {
   "cell_type": "code",
   "execution_count": 17,
   "outputs": [
    {
     "name": "stdout",
     "output_type": "stream",
     "text": [
      "NodesPerBlock          5.000000\n",
      "Computed_EdgeCount    17.000000\n",
      "Computed_NodeCount    15.000000\n",
      "Real_EdgeCount         1.980583\n",
      "Real_NodeCount         3.961165\n",
      "MatchCount             0.000000\n",
      "dtype: float64\n",
      "P-value obtained:  1.0\n",
      "NodesPerBlock         15.000000\n",
      "Computed_EdgeCount    49.991304\n",
      "Computed_NodeCount    45.000000\n",
      "Real_EdgeCount        13.930435\n",
      "Real_NodeCount        16.921739\n",
      "MatchCount             2.008696\n",
      "dtype: float64\n",
      "P-value obtained:  0.15869597596887466\n",
      "NodesPerBlock         25.000000\n",
      "Computed_EdgeCount    83.445545\n",
      "Computed_NodeCount    75.000000\n",
      "Real_EdgeCount        32.000000\n",
      "Real_NodeCount        28.000000\n",
      "MatchCount             2.188119\n",
      "dtype: float64\n",
      "P-value obtained:  0.21847621339777532\n"
     ]
    },
    {
     "data": {
      "text/plain": "0.21847621339777532"
     },
     "execution_count": 17,
     "metadata": {},
     "output_type": "execute_result"
    }
   ],
   "source": [
    "alpha=0.1\n",
    "\n",
    "separate_tests(matching_method11,alpha)\n",
    "separate_tests(matching_method12,alpha)\n",
    "separate_tests(matching_method13,alpha)"
   ],
   "metadata": {
    "collapsed": false,
    "pycharm": {
     "name": "#%%\n"
    }
   }
  },
  {
   "cell_type": "code",
   "execution_count": 18,
   "outputs": [
    {
     "name": "stdout",
     "output_type": "stream",
     "text": [
      "NodesPerBlock         15.0\n",
      "Computed_EdgeCount    10.0\n",
      "Computed_NodeCount    17.0\n",
      "Real_EdgeCount         0.0\n",
      "Real_NodeCount         0.0\n",
      "MatchCount             0.0\n",
      "dtype: float64\n",
      "P-value obtained:  1.0\n",
      "NodesPerBlock         25.0\n",
      "Computed_EdgeCount     9.0\n",
      "Computed_NodeCount    17.0\n",
      "Real_EdgeCount         0.0\n",
      "Real_NodeCount         0.0\n",
      "MatchCount             0.0\n",
      "dtype: float64\n",
      "P-value obtained:  1.0\n"
     ]
    },
    {
     "data": {
      "text/plain": "1.0"
     },
     "execution_count": 18,
     "metadata": {},
     "output_type": "execute_result"
    }
   ],
   "source": [
    "#separate_tests(matching_method21,alpha)\n",
    "separate_tests(matching_method22,alpha)\n",
    "separate_tests(matching_method23,alpha)"
   ],
   "metadata": {
    "collapsed": false,
    "pycharm": {
     "name": "#%%\n"
    }
   }
  },
  {
   "cell_type": "code",
   "execution_count": 19,
   "outputs": [
    {
     "name": "stdout",
     "output_type": "stream",
     "text": [
      "NodesPerBlock          5.0\n",
      "Computed_EdgeCount    10.0\n",
      "Computed_NodeCount    15.0\n",
      "Real_EdgeCount         2.0\n",
      "Real_NodeCount         4.0\n",
      "MatchCount             0.0\n",
      "dtype: float64\n",
      "P-value obtained:  1.0\n",
      "NodesPerBlock         15.00\n",
      "Computed_EdgeCount    29.00\n",
      "Computed_NodeCount    45.00\n",
      "Real_EdgeCount        13.00\n",
      "Real_NodeCount        16.00\n",
      "MatchCount             0.08\n",
      "dtype: float64\n",
      "P-value obtained:  0.9573126711099902\n",
      "NodesPerBlock         25.00\n",
      "Computed_EdgeCount    49.00\n",
      "Computed_NodeCount    75.00\n",
      "Real_EdgeCount        31.00\n",
      "Real_NodeCount        27.00\n",
      "MatchCount             0.11\n",
      "dtype: float64\n",
      "P-value obtained:  0.9519210652878288\n"
     ]
    },
    {
     "data": {
      "text/plain": "0.9519210652878288"
     },
     "execution_count": 19,
     "metadata": {},
     "output_type": "execute_result"
    }
   ],
   "source": [
    "separate_tests(matching_method31,alpha,True)\n",
    "separate_tests(matching_method32,alpha,True)\n",
    "separate_tests(matching_method33,alpha,True)"
   ],
   "metadata": {
    "collapsed": false,
    "pycharm": {
     "name": "#%%\n"
    }
   }
  },
  {
   "cell_type": "code",
   "execution_count": 20,
   "outputs": [
    {
     "name": "stdout",
     "output_type": "stream",
     "text": [
      "NodesPerBlock          5.000000\n",
      "Computed_EdgeCount    16.775510\n",
      "Computed_NodeCount    15.000000\n",
      "Real_EdgeCount         0.091837\n",
      "Real_NodeCount         0.173469\n",
      "MatchCount             0.000000\n",
      "dtype: float64\n",
      "P-value obtained:  1.0\n",
      "NodesPerBlock         15.000000\n",
      "Computed_EdgeCount    49.096154\n",
      "Computed_NodeCount    45.000000\n",
      "Real_EdgeCount         3.961538\n",
      "Real_NodeCount         5.692308\n",
      "MatchCount             0.057692\n",
      "dtype: float64\n",
      "P-value obtained:  0.9548590674665317\n",
      "NodesPerBlock         25.000000\n",
      "Computed_EdgeCount    78.778947\n",
      "Computed_NodeCount    75.000000\n",
      "Real_EdgeCount        12.810526\n",
      "Real_NodeCount        15.357895\n",
      "MatchCount             0.126316\n",
      "dtype: float64\n",
      "P-value obtained:  0.9220085760884366\n"
     ]
    },
    {
     "data": {
      "text/plain": "0.9220085760884366"
     },
     "execution_count": 20,
     "metadata": {},
     "output_type": "execute_result"
    }
   ],
   "source": [
    "separate_tests(matching_method41,alpha)\n",
    "separate_tests(matching_method42,alpha)\n",
    "separate_tests(matching_method43,alpha)"
   ],
   "metadata": {
    "collapsed": false,
    "pycharm": {
     "name": "#%%\n"
    }
   }
  },
  {
   "cell_type": "markdown",
   "source": [
    "Two Sample t-test: Determining whether the OnPLS selection method finds more matches than the Baseline/Random approach\n"
   ],
   "metadata": {
    "collapsed": false,
    "pycharm": {
     "name": "#%% md\n"
    }
   }
  },
  {
   "cell_type": "code",
   "execution_count": 21,
   "outputs": [
    {
     "data": {
      "text/plain": "Ttest_indResult(statistic=nan, pvalue=nan)"
     },
     "execution_count": 21,
     "metadata": {},
     "output_type": "execute_result"
    }
   ],
   "source": [
    "import scipy.stats as stats\n",
    "\n",
    "matches11 = np.array(matching_method11['MatchCount'])\n",
    "matches41 = np.array(matching_method41['MatchCount'])\n",
    "stats.ttest_ind(a=matches11,b=matches41,equal_var=True)\n"
   ],
   "metadata": {
    "collapsed": false,
    "pycharm": {
     "name": "#%%\n"
    }
   }
  },
  {
   "cell_type": "code",
   "execution_count": 22,
   "outputs": [
    {
     "data": {
      "text/plain": "Ttest_indResult(statistic=59.72682266884518, pvalue=1.0975978629169663e-136)"
     },
     "execution_count": 22,
     "metadata": {},
     "output_type": "execute_result"
    }
   ],
   "source": [
    "matches12 = np.array(matching_method12['MatchCount'])\n",
    "matches42 = np.array(matching_method42['MatchCount'])\n",
    "stats.ttest_ind(a=matches12,b=matches42,equal_var=True)\n"
   ],
   "metadata": {
    "collapsed": false,
    "pycharm": {
     "name": "#%%\n"
    }
   }
  },
  {
   "cell_type": "code",
   "execution_count": 23,
   "outputs": [
    {
     "data": {
      "text/plain": "Ttest_indResult(statistic=36.73961701047505, pvalue=2.5690615562568985e-89)"
     },
     "execution_count": 23,
     "metadata": {},
     "output_type": "execute_result"
    }
   ],
   "source": [
    "matches13 = np.array(matching_method13['MatchCount'])\n",
    "matches43 = np.array(matching_method43['MatchCount'])\n",
    "stats.ttest_ind(a=matches13,b=matches43,equal_var=True)"
   ],
   "metadata": {
    "collapsed": false,
    "pycharm": {
     "name": "#%%\n"
    }
   }
  }
 ],
 "metadata": {
  "kernelspec": {
   "display_name": "Python 3",
   "language": "python",
   "name": "python3"
  },
  "language_info": {
   "codemirror_mode": {
    "name": "ipython",
    "version": 2
   },
   "file_extension": ".py",
   "mimetype": "text/x-python",
   "name": "python",
   "nbconvert_exporter": "python",
   "pygments_lexer": "ipython2",
   "version": "2.7.6"
  }
 },
 "nbformat": 4,
 "nbformat_minor": 0
}