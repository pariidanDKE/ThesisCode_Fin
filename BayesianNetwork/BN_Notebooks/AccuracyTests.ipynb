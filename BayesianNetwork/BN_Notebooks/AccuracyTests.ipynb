{
 "cells": [
  {
   "cell_type": "code",
   "execution_count": 1,
   "metadata": {
    "collapsed": true
   },
   "outputs": [],
   "source": [
    "import pandas as pd\n",
    "import numpy as np"
   ]
  },
  {
   "cell_type": "markdown",
   "source": [
    "Aggregating for Inference Tests\n",
    "\n",
    "Method 1 : BN OnPLS selection - DONE\n",
    "Method 2 : BN Correlation selection - DONE\n",
    "Method 3 : BN Random selection - DONE\n",
    "Method 4 : RF Correlation - DONE\n"
   ],
   "metadata": {
    "collapsed": false,
    "pycharm": {
     "name": "#%% md\n"
    }
   }
  },
  {
   "cell_type": "code",
   "execution_count": 2,
   "outputs": [],
   "source": [
    "accuracy_df = pd.read_csv('..\\\\Logs\\\\inference_metrics.csv')"
   ],
   "metadata": {
    "collapsed": false,
    "pycharm": {
     "name": "#%%\n"
    }
   }
  },
  {
   "cell_type": "code",
   "execution_count": 3,
   "outputs": [],
   "source": [
    "accuracy_fin_df = pd.read_csv('..\\\\Logs\\\\inference_metrics_fin.csv')\n"
   ],
   "metadata": {
    "collapsed": false,
    "pycharm": {
     "name": "#%%\n"
    }
   }
  },
  {
   "cell_type": "code",
   "execution_count": 4,
   "outputs": [],
   "source": [
    "tmp = accuracy_df.loc[(accuracy_df['Selection Method']=='RF(corr)')]\n",
    "accuracy_fin_df = pd.concat([accuracy_fin_df,tmp])\n"
   ],
   "metadata": {
    "collapsed": false,
    "pycharm": {
     "name": "#%%\n"
    }
   }
  },
  {
   "cell_type": "code",
   "execution_count": 5,
   "outputs": [],
   "source": [
    "accuracy_method11 = accuracy_fin_df.loc[(accuracy_fin_df['NodesPerBlock']==5) & (accuracy_fin_df['Selection Method']=='OnPLs') & (accuracy_fin_df['Config']=='Config(wb)')]\n",
    "accuracy_method12 = accuracy_fin_df.loc[(accuracy_fin_df['NodesPerBlock']==15) & (accuracy_fin_df['Selection Method']=='OnPLs') & (accuracy_fin_df['Config']=='Config(wb)')]\n",
    "accuracy_method13 = accuracy_fin_df.loc[(accuracy_fin_df['NodesPerBlock']==25) & (accuracy_fin_df['Selection Method']=='OnPLs') & (accuracy_fin_df['Config']=='Config(wb)')]"
   ],
   "metadata": {
    "collapsed": false,
    "pycharm": {
     "name": "#%%\n"
    }
   }
  },
  {
   "cell_type": "code",
   "execution_count": 6,
   "outputs": [],
   "source": [
    "accuracy_method21 = accuracy_fin_df.loc[(accuracy_fin_df['NodesPerBlock']==5) & (accuracy_fin_df['Selection Method']=='Correlation') & (accuracy_fin_df['Config']=='Config(wb)')]\n",
    "accuracy_method22 = accuracy_fin_df.loc[(accuracy_fin_df['NodesPerBlock']==15) & (accuracy_fin_df['Selection Method']=='Correlation') & (accuracy_fin_df['Config']=='Config(wb)')]\n",
    "accuracy_method23 = accuracy_fin_df.loc[(accuracy_fin_df['NodesPerBlock']==25) & (accuracy_fin_df['Selection Method']=='Correlation') & (accuracy_fin_df['Config']=='Config(wb)')]"
   ],
   "metadata": {
    "collapsed": false,
    "pycharm": {
     "name": "#%%\n"
    }
   }
  },
  {
   "cell_type": "code",
   "execution_count": 7,
   "outputs": [],
   "source": [
    "accuracy_method31 = accuracy_fin_df.loc[(accuracy_fin_df['NodesPerBlock']==5) & (accuracy_fin_df['Selection Method']=='Random') & (accuracy_fin_df['Config']=='Config(wb)')]\n",
    "accuracy_method32 = accuracy_fin_df.loc[(accuracy_fin_df['NodesPerBlock']==15) & (accuracy_fin_df['Selection Method']=='Random') & (accuracy_fin_df['Config']=='Config(wb)')]\n",
    "accuracy_method33 = accuracy_fin_df.loc[(accuracy_fin_df['NodesPerBlock']==25) & (accuracy_fin_df['Selection Method']=='Random') & (accuracy_fin_df['Config']=='Config(wb)')]"
   ],
   "metadata": {
    "collapsed": false,
    "pycharm": {
     "name": "#%%\n"
    }
   }
  },
  {
   "cell_type": "code",
   "execution_count": 8,
   "outputs": [],
   "source": [
    "accuracy_method41 = accuracy_fin_df.loc[(accuracy_fin_df['NodesPerBlock']==5) & (accuracy_fin_df['Selection Method']=='RF(corr)')]\n",
    "accuracy_method42 = accuracy_fin_df.loc[(accuracy_fin_df['NodesPerBlock']==15) & (accuracy_fin_df['Selection Method']=='RF(corr)')]\n",
    "accuracy_method43 = accuracy_fin_df.loc[(accuracy_fin_df['NodesPerBlock']==25) & (accuracy_fin_df['Selection Method']=='RF(corr)')]\n"
   ],
   "metadata": {
    "collapsed": false,
    "pycharm": {
     "name": "#%%\n"
    }
   }
  },
  {
   "cell_type": "code",
   "execution_count": 9,
   "outputs": [
    {
     "name": "stdout",
     "output_type": "stream",
     "text": [
      "BN(OnPLS) - 5 nodes. Accuracy:  0.8666666666666663\n",
      "BN(OnPLS) - 15 nodes. Accuracy:  0.8241666666666664\n",
      "BN(OnPLS) - 25 nodes. Accuracy:  0.8371666666666664\n"
     ]
    }
   ],
   "source": [
    "print('BN(OnPLS) - 5 nodes. Accuracy: ',accuracy_method11['Accuracy'].mean())\n",
    "print('BN(OnPLS) - 15 nodes. Accuracy: ',accuracy_method12['Accuracy'].mean())\n",
    "print('BN(OnPLS) - 25 nodes. Accuracy: ',accuracy_method13['Accuracy'].mean())"
   ],
   "metadata": {
    "collapsed": false,
    "pycharm": {
     "name": "#%%\n"
    }
   }
  },
  {
   "cell_type": "code",
   "execution_count": 10,
   "outputs": [
    {
     "name": "stdout",
     "output_type": "stream",
     "text": [
      "BN(Correlation) - 5 nodes. Accuracy:  0.8833333333333337\n",
      "BN(Correlation) - 15 nodes. Accuracy:  0.8666666666666663\n",
      "BN(Correlation) - 25 nodes. Accuracy:  0.8499999999999995\n"
     ]
    }
   ],
   "source": [
    "print('BN(Correlation) - 5 nodes. Accuracy: ',accuracy_method21['Accuracy'].mean())\n",
    "print('BN(Correlation) - 15 nodes. Accuracy: ',accuracy_method22['Accuracy'].mean())\n",
    "print('BN(Correlation) - 25 nodes. Accuracy: ',accuracy_method23['Accuracy'].mean())"
   ],
   "metadata": {
    "collapsed": false,
    "pycharm": {
     "name": "#%%\n"
    }
   }
  },
  {
   "cell_type": "code",
   "execution_count": 11,
   "outputs": [
    {
     "name": "stdout",
     "output_type": "stream",
     "text": [
      "BN(Random) - 5 nodes. Accuracy:  0.7306397306397306\n",
      "BN(Random) - 15 nodes. Accuracy:  0.7695402298850574\n",
      "BN(Random) - 25 nodes. Accuracy:  0.7935028248587572\n"
     ]
    }
   ],
   "source": [
    "print('BN(Random) - 5 nodes. Accuracy: ',accuracy_method31['Accuracy'].mean())\n",
    "print('BN(Random) - 15 nodes. Accuracy: ',accuracy_method32['Accuracy'].mean())\n",
    "print('BN(Random) - 25 nodes. Accuracy: ',accuracy_method33['Accuracy'].mean())"
   ],
   "metadata": {
    "collapsed": false,
    "pycharm": {
     "name": "#%%\n"
    }
   }
  },
  {
   "cell_type": "code",
   "execution_count": 12,
   "outputs": [
    {
     "name": "stdout",
     "output_type": "stream",
     "text": [
      "RF - 5 nodes. Accuracy:  0.8923333333333335\n",
      "RF - 15 nodes. Accuracy:  0.9051666666666669\n",
      "RF - 25 nodes. Accuracy:  0.8995000000000002\n"
     ]
    }
   ],
   "source": [
    "print('RF - 5 nodes. Accuracy: ',accuracy_method41['Accuracy'].mean())\n",
    "print('RF - 15 nodes. Accuracy: ',accuracy_method42['Accuracy'].mean())\n",
    "print('RF - 25 nodes. Accuracy: ',accuracy_method43['Accuracy'].mean())\n"
   ],
   "metadata": {
    "collapsed": false,
    "pycharm": {
     "name": "#%%\n"
    }
   }
  },
  {
   "cell_type": "markdown",
   "source": [
    "Calculating Standard Error for each of the approaches"
   ],
   "metadata": {
    "collapsed": false,
    "pycharm": {
     "name": "#%% md\n"
    }
   }
  },
  {
   "cell_type": "code",
   "execution_count": 13,
   "outputs": [
    {
     "data": {
      "text/plain": "3.3306690738754695e-17"
     },
     "execution_count": 13,
     "metadata": {},
     "output_type": "execute_result"
    }
   ],
   "source": [
    "from scipy.stats import sem\n",
    "\n",
    "sem(accuracy_method11['Accuracy'])"
   ],
   "metadata": {
    "collapsed": false,
    "pycharm": {
     "name": "#%%\n"
    }
   }
  },
  {
   "cell_type": "code",
   "execution_count": 14,
   "outputs": [
    {
     "name": "stdout",
     "output_type": "stream",
     "text": [
      "Standard Error for Method11 :  3.3306690738754695e-17\n",
      "Standard Error for Method12 :  0.004186819948297425\n",
      "Standard Error for Method13 :  0.0024715553521185486\n",
      "Standard Error for Method21 :  3.3306690738754695e-17\n",
      "Standard Error for Method22 :  3.347448369359225e-17\n",
      "Standard Error for Method23 :  4.463264492478967e-17\n",
      "Standard Error for Method31 :  0.006656123864564534\n",
      "Standard Error for Method32 :  0.008148669122532978\n",
      "Standard Error for Method33 :  0.00781317326889228\n",
      "Standard Error for Method41 :  0.0019013256642947743\n",
      "Standard Error for Method42 :  0.0016530589269403407\n",
      "Standard Error for Method43 :  0.0016659089186544837\n"
     ]
    }
   ],
   "source": [
    "print('Standard Error for Method11 : ',(sem(accuracy_method11['Accuracy'])))\n",
    "print('Standard Error for Method12 : ',(sem(accuracy_method12['Accuracy'])))\n",
    "print('Standard Error for Method13 : ',(sem(accuracy_method13['Accuracy'])))\n",
    "print('Standard Error for Method21 : ',(sem(accuracy_method21['Accuracy'])))\n",
    "print('Standard Error for Method22 : ',(sem(accuracy_method22['Accuracy'])))\n",
    "print('Standard Error for Method23 : ',(sem(accuracy_method23['Accuracy'])))\n",
    "print('Standard Error for Method31 : ',(sem(accuracy_method31['Accuracy'])))\n",
    "print('Standard Error for Method32 : ',(sem(accuracy_method32['Accuracy'])))\n",
    "print('Standard Error for Method33 : ',(sem(accuracy_method33['Accuracy'])))\n",
    "print('Standard Error for Method41 : ',(sem(accuracy_method41['Accuracy'])))\n",
    "print('Standard Error for Method42 : ',(sem(accuracy_method42['Accuracy'])))\n",
    "print('Standard Error for Method43 : ',(sem(accuracy_method43['Accuracy'])))\n"
   ],
   "metadata": {
    "collapsed": false,
    "pycharm": {
     "name": "#%%\n"
    }
   }
  }
 ],
 "metadata": {
  "kernelspec": {
   "display_name": "Python 3",
   "language": "python",
   "name": "python3"
  },
  "language_info": {
   "codemirror_mode": {
    "name": "ipython",
    "version": 2
   },
   "file_extension": ".py",
   "mimetype": "text/x-python",
   "name": "python",
   "nbconvert_exporter": "python",
   "pygments_lexer": "ipython2",
   "version": "2.7.6"
  }
 },
 "nbformat": 4,
 "nbformat_minor": 0
}