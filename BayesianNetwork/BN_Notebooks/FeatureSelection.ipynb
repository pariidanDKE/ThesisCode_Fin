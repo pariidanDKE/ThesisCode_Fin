{
 "cells": [
  {
   "cell_type": "code",
   "execution_count": 1,
   "metadata": {
    "collapsed": true
   },
   "outputs": [],
   "source": [
    "import pandas as pd\n",
    "import numpy as np"
   ]
  },
  {
   "cell_type": "code",
   "execution_count": 2,
   "outputs": [],
   "source": [
    "df_mir = pd.read_csv('..\\\\Data\\\\mir_data_labelled.csv', index_col=0)\n",
    "df_pr = pd.read_csv('..\\\\Data\\\\pr_data_labelled.csv',index_col=0)\n",
    "df_mrna = pd.read_csv('..\\\\Data\\\\mrna_data_labelled.csv',index_col=0)"
   ],
   "metadata": {
    "collapsed": false,
    "pycharm": {
     "name": "#%%\n"
    }
   }
  },
  {
   "cell_type": "code",
   "execution_count": 3,
   "outputs": [],
   "source": [
    "# the method uses Pearsons correlation to return correlation of each feauter of the block, wrt to the Label, aka Braak Stage\n",
    "def feature_selection(df,threshold):\n",
    "    df['Braak'] = df['Braak'].replace('Case',1)\n",
    "    df['Braak'] = df['Braak'].replace('Control',0)\n",
    "\n",
    "    df_corr = df.corr()[['Braak']]\n",
    "    df_corr.sort_values(by=['Braak'],ascending=False,inplace=True,key=abs)\n",
    "\n",
    "    return df_corr\n",
    "    #return df_corr.loc[ (df_corr['Braak']>threshold)  |  (df_corr['Braak']<-threshold)]['Braak']\n",
    "\n"
   ],
   "metadata": {
    "collapsed": false,
    "pycharm": {
     "name": "#%%\n"
    }
   }
  },
  {
   "cell_type": "code",
   "execution_count": 4,
   "outputs": [
    {
     "data": {
      "text/plain": "                    Braak\nBraak            1.000000\nhsa-miR-1296-5p -0.643146\nhsa-miR-940     -0.618528\nhsa-miR-98-5p    0.617079\nhsa-miR-326     -0.608836\n...                   ...\nhsa-miR-1468-5p -0.006268\nhsa-miR-1298-5p  0.005908\nhsa-miR-2277-5p  0.005521\nhsa-miR-412-5p   0.004952\nhsa-let-7c-5p   -0.001833\n\n[518 rows x 1 columns]",
      "text/html": "<div>\n<style scoped>\n    .dataframe tbody tr th:only-of-type {\n        vertical-align: middle;\n    }\n\n    .dataframe tbody tr th {\n        vertical-align: top;\n    }\n\n    .dataframe thead th {\n        text-align: right;\n    }\n</style>\n<table border=\"1\" class=\"dataframe\">\n  <thead>\n    <tr style=\"text-align: right;\">\n      <th></th>\n      <th>Braak</th>\n    </tr>\n  </thead>\n  <tbody>\n    <tr>\n      <th>Braak</th>\n      <td>1.000000</td>\n    </tr>\n    <tr>\n      <th>hsa-miR-1296-5p</th>\n      <td>-0.643146</td>\n    </tr>\n    <tr>\n      <th>hsa-miR-940</th>\n      <td>-0.618528</td>\n    </tr>\n    <tr>\n      <th>hsa-miR-98-5p</th>\n      <td>0.617079</td>\n    </tr>\n    <tr>\n      <th>hsa-miR-326</th>\n      <td>-0.608836</td>\n    </tr>\n    <tr>\n      <th>...</th>\n      <td>...</td>\n    </tr>\n    <tr>\n      <th>hsa-miR-1468-5p</th>\n      <td>-0.006268</td>\n    </tr>\n    <tr>\n      <th>hsa-miR-1298-5p</th>\n      <td>0.005908</td>\n    </tr>\n    <tr>\n      <th>hsa-miR-2277-5p</th>\n      <td>0.005521</td>\n    </tr>\n    <tr>\n      <th>hsa-miR-412-5p</th>\n      <td>0.004952</td>\n    </tr>\n    <tr>\n      <th>hsa-let-7c-5p</th>\n      <td>-0.001833</td>\n    </tr>\n  </tbody>\n</table>\n<p>518 rows × 1 columns</p>\n</div>"
     },
     "execution_count": 4,
     "metadata": {},
     "output_type": "execute_result"
    }
   ],
   "source": [
    "mir_corrs = feature_selection(df_mir,0.2)\n",
    "mir_corrs"
   ],
   "metadata": {
    "collapsed": false,
    "pycharm": {
     "name": "#%%\n"
    }
   }
  },
  {
   "cell_type": "code",
   "execution_count": 5,
   "outputs": [
    {
     "data": {
      "text/plain": "             Braak\nBraak     1.000000\nQ92947-1 -0.539812\nQ9UI12-1 -0.525449\nP53680   -0.522643\nP23434   -0.516308\n...            ...\nQ13492-1  0.000384\nQ92506    0.000240\nQ13033   -0.000083\nP05556-1  0.000031\nQ86X76    0.000024\n\n[2870 rows x 1 columns]",
      "text/html": "<div>\n<style scoped>\n    .dataframe tbody tr th:only-of-type {\n        vertical-align: middle;\n    }\n\n    .dataframe tbody tr th {\n        vertical-align: top;\n    }\n\n    .dataframe thead th {\n        text-align: right;\n    }\n</style>\n<table border=\"1\" class=\"dataframe\">\n  <thead>\n    <tr style=\"text-align: right;\">\n      <th></th>\n      <th>Braak</th>\n    </tr>\n  </thead>\n  <tbody>\n    <tr>\n      <th>Braak</th>\n      <td>1.000000</td>\n    </tr>\n    <tr>\n      <th>Q92947-1</th>\n      <td>-0.539812</td>\n    </tr>\n    <tr>\n      <th>Q9UI12-1</th>\n      <td>-0.525449</td>\n    </tr>\n    <tr>\n      <th>P53680</th>\n      <td>-0.522643</td>\n    </tr>\n    <tr>\n      <th>P23434</th>\n      <td>-0.516308</td>\n    </tr>\n    <tr>\n      <th>...</th>\n      <td>...</td>\n    </tr>\n    <tr>\n      <th>Q13492-1</th>\n      <td>0.000384</td>\n    </tr>\n    <tr>\n      <th>Q92506</th>\n      <td>0.000240</td>\n    </tr>\n    <tr>\n      <th>Q13033</th>\n      <td>-0.000083</td>\n    </tr>\n    <tr>\n      <th>P05556-1</th>\n      <td>0.000031</td>\n    </tr>\n    <tr>\n      <th>Q86X76</th>\n      <td>0.000024</td>\n    </tr>\n  </tbody>\n</table>\n<p>2870 rows × 1 columns</p>\n</div>"
     },
     "execution_count": 5,
     "metadata": {},
     "output_type": "execute_result"
    }
   ],
   "source": [
    "pr_corrs = feature_selection(df_pr,0.2)\n",
    "pr_corrs"
   ],
   "metadata": {
    "collapsed": false,
    "pycharm": {
     "name": "#%%\n"
    }
   }
  },
  {
   "cell_type": "code",
   "execution_count": 6,
   "outputs": [
    {
     "data": {
      "text/plain": "                    Braak\nBraak            1.000000\nENSG00000165092 -0.545696\nENSG00000252316  0.535008\nENSG00000275830  0.530265\nENSG00000100348 -0.528013\n...                   ...\nENSG00000111790 -0.000080\nENSG00000196843 -0.000071\nENSG00000134897 -0.000051\nENSG00000145331 -0.000040\nENSG00000206140 -0.000030\n\n[20654 rows x 1 columns]",
      "text/html": "<div>\n<style scoped>\n    .dataframe tbody tr th:only-of-type {\n        vertical-align: middle;\n    }\n\n    .dataframe tbody tr th {\n        vertical-align: top;\n    }\n\n    .dataframe thead th {\n        text-align: right;\n    }\n</style>\n<table border=\"1\" class=\"dataframe\">\n  <thead>\n    <tr style=\"text-align: right;\">\n      <th></th>\n      <th>Braak</th>\n    </tr>\n  </thead>\n  <tbody>\n    <tr>\n      <th>Braak</th>\n      <td>1.000000</td>\n    </tr>\n    <tr>\n      <th>ENSG00000165092</th>\n      <td>-0.545696</td>\n    </tr>\n    <tr>\n      <th>ENSG00000252316</th>\n      <td>0.535008</td>\n    </tr>\n    <tr>\n      <th>ENSG00000275830</th>\n      <td>0.530265</td>\n    </tr>\n    <tr>\n      <th>ENSG00000100348</th>\n      <td>-0.528013</td>\n    </tr>\n    <tr>\n      <th>...</th>\n      <td>...</td>\n    </tr>\n    <tr>\n      <th>ENSG00000111790</th>\n      <td>-0.000080</td>\n    </tr>\n    <tr>\n      <th>ENSG00000196843</th>\n      <td>-0.000071</td>\n    </tr>\n    <tr>\n      <th>ENSG00000134897</th>\n      <td>-0.000051</td>\n    </tr>\n    <tr>\n      <th>ENSG00000145331</th>\n      <td>-0.000040</td>\n    </tr>\n    <tr>\n      <th>ENSG00000206140</th>\n      <td>-0.000030</td>\n    </tr>\n  </tbody>\n</table>\n<p>20654 rows × 1 columns</p>\n</div>"
     },
     "execution_count": 6,
     "metadata": {},
     "output_type": "execute_result"
    }
   ],
   "source": [
    "mrna_corrs = feature_selection(df_mrna,0.2)\n",
    "mrna_corrs"
   ],
   "metadata": {
    "collapsed": false,
    "pycharm": {
     "name": "#%%\n"
    }
   }
  },
  {
   "cell_type": "code",
   "execution_count": 7,
   "outputs": [],
   "source": [
    "# saving the ordered absolute correlations, to used in the OnPLS notebook as a preliminary feature selection method\n",
    "mir_corrs.to_csv('..\\\\Data\\\\mir_corr_ordered.csv')\n",
    "pr_corrs.to_csv('..\\\\Data\\\\pr_corr_ordered.csv')\n",
    "mrna_corrs.to_csv('..\\\\Data\\\\mrna_corr_ordered.csv')"
   ],
   "metadata": {
    "collapsed": false,
    "pycharm": {
     "name": "#%%\n"
    }
   }
  },
  {
   "cell_type": "code",
   "execution_count": 9,
   "outputs": [
    {
     "data": {
      "text/plain": "            microRNA             mRNA   Protein\n1    hsa-miR-1296-5p  ENSG00000165092  Q92947-1\n2        hsa-miR-940  ENSG00000252316  Q9UI12-1\n3      hsa-miR-98-5p  ENSG00000275830    P53680\n4        hsa-miR-326  ENSG00000100348    P23434\n5     hsa-miR-26a-5p  ENSG00000120457    P62841\n..               ...              ...       ...\n495   hsa-miR-502-3p  ENSG00000136908  Q9BQI0-2\n496   hsa-miR-361-3p  ENSG00000110436    Q08257\n497     hsa-miR-1197  ENSG00000267530    Q00688\n498   hsa-miR-329-5p  ENSG00000197168    P28070\n499    hsa-miR-31-5p  ENSG00000198892    Q9BZV1\n\n[499 rows x 3 columns]",
      "text/html": "<div>\n<style scoped>\n    .dataframe tbody tr th:only-of-type {\n        vertical-align: middle;\n    }\n\n    .dataframe tbody tr th {\n        vertical-align: top;\n    }\n\n    .dataframe thead th {\n        text-align: right;\n    }\n</style>\n<table border=\"1\" class=\"dataframe\">\n  <thead>\n    <tr style=\"text-align: right;\">\n      <th></th>\n      <th>microRNA</th>\n      <th>mRNA</th>\n      <th>Protein</th>\n    </tr>\n  </thead>\n  <tbody>\n    <tr>\n      <th>1</th>\n      <td>hsa-miR-1296-5p</td>\n      <td>ENSG00000165092</td>\n      <td>Q92947-1</td>\n    </tr>\n    <tr>\n      <th>2</th>\n      <td>hsa-miR-940</td>\n      <td>ENSG00000252316</td>\n      <td>Q9UI12-1</td>\n    </tr>\n    <tr>\n      <th>3</th>\n      <td>hsa-miR-98-5p</td>\n      <td>ENSG00000275830</td>\n      <td>P53680</td>\n    </tr>\n    <tr>\n      <th>4</th>\n      <td>hsa-miR-326</td>\n      <td>ENSG00000100348</td>\n      <td>P23434</td>\n    </tr>\n    <tr>\n      <th>5</th>\n      <td>hsa-miR-26a-5p</td>\n      <td>ENSG00000120457</td>\n      <td>P62841</td>\n    </tr>\n    <tr>\n      <th>...</th>\n      <td>...</td>\n      <td>...</td>\n      <td>...</td>\n    </tr>\n    <tr>\n      <th>495</th>\n      <td>hsa-miR-502-3p</td>\n      <td>ENSG00000136908</td>\n      <td>Q9BQI0-2</td>\n    </tr>\n    <tr>\n      <th>496</th>\n      <td>hsa-miR-361-3p</td>\n      <td>ENSG00000110436</td>\n      <td>Q08257</td>\n    </tr>\n    <tr>\n      <th>497</th>\n      <td>hsa-miR-1197</td>\n      <td>ENSG00000267530</td>\n      <td>Q00688</td>\n    </tr>\n    <tr>\n      <th>498</th>\n      <td>hsa-miR-329-5p</td>\n      <td>ENSG00000197168</td>\n      <td>P28070</td>\n    </tr>\n    <tr>\n      <th>499</th>\n      <td>hsa-miR-31-5p</td>\n      <td>ENSG00000198892</td>\n      <td>Q9BZV1</td>\n    </tr>\n  </tbody>\n</table>\n<p>499 rows × 3 columns</p>\n</div>"
     },
     "execution_count": 9,
     "metadata": {},
     "output_type": "execute_result"
    }
   ],
   "source": [
    "# saving the top ordered absolute correlations, to used in the BayesPipeline file as the main feature selection method\n",
    "top_corrs = pd.DataFrame(columns=['microRNA','mRNA','Protein'])\n",
    "\n",
    "top_corrs['microRNA']  = mir_corrs.head(500).index\n",
    "top_corrs['mRNA']  = mrna_corrs.head(500).index\n",
    "top_corrs['Protein']  = pr_corrs.head(500).index\n",
    "top_corrs.drop(0,axis=0,inplace=True)\n",
    "top_corrs\n",
    "#top_corrs.to_csv('Data\\\\BayesVariables_Allblocks_CorrelationOnly.csv')"
   ],
   "metadata": {
    "collapsed": false,
    "pycharm": {
     "name": "#%%\n"
    }
   }
  }
 ],
 "metadata": {
  "kernelspec": {
   "display_name": "Python 3",
   "language": "python",
   "name": "python3"
  },
  "language_info": {
   "codemirror_mode": {
    "name": "ipython",
    "version": 2
   },
   "file_extension": ".py",
   "mimetype": "text/x-python",
   "name": "python",
   "nbconvert_exporter": "python",
   "pygments_lexer": "ipython2",
   "version": "2.7.6"
  }
 },
 "nbformat": 4,
 "nbformat_minor": 0
}